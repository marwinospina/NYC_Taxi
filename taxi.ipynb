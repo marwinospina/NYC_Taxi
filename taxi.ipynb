{
 "cells": [
  {
   "cell_type": "markdown",
   "metadata": {},
   "source": [
    "# New York City Taxi and Limousine Commission "
   ]
  },
  {
   "cell_type": "code",
   "execution_count": 2,
   "metadata": {},
   "outputs": [],
   "source": [
    "import numpy as np\n",
    "import pandas as pd\n",
    "import seaborn as sns\n",
    "from scipy import stats\n",
    "import matplotlib\n",
    "from matplotlib import pyplot as plt"
   ]
  },
  {
   "cell_type": "code",
   "execution_count": 4,
   "metadata": {},
   "outputs": [],
   "source": [
    "taxi = pd.read_csv('~/desktop/ttp2/capstone_3/taxi_sample.csv')"
   ]
  },
  {
   "cell_type": "code",
   "execution_count": 5,
   "metadata": {},
   "outputs": [
    {
     "name": "stdout",
     "output_type": "stream",
     "text": [
      "<class 'pandas.core.frame.DataFrame'>\n",
      "RangeIndex: 500000 entries, 0 to 499999\n",
      "Data columns (total 11 columns):\n",
      " #   Column              Non-Null Count   Dtype  \n",
      "---  ------              --------------   -----  \n",
      " 0   id                  500000 non-null  object \n",
      " 1   vendor_id           500000 non-null  int64  \n",
      " 2   pickup_datetime     500000 non-null  object \n",
      " 3   dropoff_datetime    500000 non-null  object \n",
      " 4   passenger_count     500000 non-null  int64  \n",
      " 5   pickup_longitude    500000 non-null  float64\n",
      " 6   pickup_latitude     500000 non-null  float64\n",
      " 7   dropoff_longitude   500000 non-null  float64\n",
      " 8   dropoff_latitude    500000 non-null  float64\n",
      " 9   store_and_fwd_flag  500000 non-null  object \n",
      " 10  trip_duration       500000 non-null  int64  \n",
      "dtypes: float64(4), int64(3), object(4)\n",
      "memory usage: 42.0+ MB\n"
     ]
    }
   ],
   "source": [
    "#taxi.shape\n",
    "#taxi.describe()\n",
    "taxi.info()"
   ]
  },
  {
   "cell_type": "code",
   "execution_count": 6,
   "metadata": {},
   "outputs": [
    {
     "data": {
      "text/html": [
       "<div>\n",
       "<style scoped>\n",
       "    .dataframe tbody tr th:only-of-type {\n",
       "        vertical-align: middle;\n",
       "    }\n",
       "\n",
       "    .dataframe tbody tr th {\n",
       "        vertical-align: top;\n",
       "    }\n",
       "\n",
       "    .dataframe thead th {\n",
       "        text-align: right;\n",
       "    }\n",
       "</style>\n",
       "<table border=\"1\" class=\"dataframe\">\n",
       "  <thead>\n",
       "    <tr style=\"text-align: right;\">\n",
       "      <th></th>\n",
       "      <th>id</th>\n",
       "      <th>vendor_id</th>\n",
       "      <th>pickup_datetime</th>\n",
       "      <th>dropoff_datetime</th>\n",
       "      <th>passenger_count</th>\n",
       "      <th>pickup_longitude</th>\n",
       "      <th>pickup_latitude</th>\n",
       "      <th>dropoff_longitude</th>\n",
       "      <th>dropoff_latitude</th>\n",
       "      <th>store_and_fwd_flag</th>\n",
       "      <th>trip_duration</th>\n",
       "    </tr>\n",
       "  </thead>\n",
       "  <tbody>\n",
       "    <tr>\n",
       "      <th>0</th>\n",
       "      <td>id3747120</td>\n",
       "      <td>1</td>\n",
       "      <td>2016-02-19 10:50:21</td>\n",
       "      <td>2016-02-19 11:06:52</td>\n",
       "      <td>1</td>\n",
       "      <td>-73.996262</td>\n",
       "      <td>40.739708</td>\n",
       "      <td>-73.989021</td>\n",
       "      <td>40.743526</td>\n",
       "      <td>N</td>\n",
       "      <td>991</td>\n",
       "    </tr>\n",
       "    <tr>\n",
       "      <th>1</th>\n",
       "      <td>id0945209</td>\n",
       "      <td>1</td>\n",
       "      <td>2016-03-13 21:11:23</td>\n",
       "      <td>2016-03-13 21:33:30</td>\n",
       "      <td>1</td>\n",
       "      <td>-73.955566</td>\n",
       "      <td>40.779476</td>\n",
       "      <td>-73.903313</td>\n",
       "      <td>40.746105</td>\n",
       "      <td>N</td>\n",
       "      <td>1327</td>\n",
       "    </tr>\n",
       "    <tr>\n",
       "      <th>2</th>\n",
       "      <td>id1965492</td>\n",
       "      <td>2</td>\n",
       "      <td>2016-04-17 19:50:40</td>\n",
       "      <td>2016-04-17 20:08:16</td>\n",
       "      <td>2</td>\n",
       "      <td>-73.994476</td>\n",
       "      <td>40.750340</td>\n",
       "      <td>-73.983673</td>\n",
       "      <td>40.716099</td>\n",
       "      <td>N</td>\n",
       "      <td>1056</td>\n",
       "    </tr>\n",
       "    <tr>\n",
       "      <th>3</th>\n",
       "      <td>id2017880</td>\n",
       "      <td>2</td>\n",
       "      <td>2016-06-09 11:10:50</td>\n",
       "      <td>2016-06-09 11:28:32</td>\n",
       "      <td>1</td>\n",
       "      <td>-73.983673</td>\n",
       "      <td>40.743881</td>\n",
       "      <td>-74.003998</td>\n",
       "      <td>40.717060</td>\n",
       "      <td>N</td>\n",
       "      <td>1062</td>\n",
       "    </tr>\n",
       "    <tr>\n",
       "      <th>4</th>\n",
       "      <td>id1433638</td>\n",
       "      <td>1</td>\n",
       "      <td>2016-04-09 02:52:33</td>\n",
       "      <td>2016-04-09 03:03:16</td>\n",
       "      <td>3</td>\n",
       "      <td>-73.987015</td>\n",
       "      <td>40.729233</td>\n",
       "      <td>-73.996033</td>\n",
       "      <td>40.753590</td>\n",
       "      <td>N</td>\n",
       "      <td>643</td>\n",
       "    </tr>\n",
       "    <tr>\n",
       "      <th>...</th>\n",
       "      <td>...</td>\n",
       "      <td>...</td>\n",
       "      <td>...</td>\n",
       "      <td>...</td>\n",
       "      <td>...</td>\n",
       "      <td>...</td>\n",
       "      <td>...</td>\n",
       "      <td>...</td>\n",
       "      <td>...</td>\n",
       "      <td>...</td>\n",
       "      <td>...</td>\n",
       "    </tr>\n",
       "    <tr>\n",
       "      <th>499995</th>\n",
       "      <td>id3591094</td>\n",
       "      <td>2</td>\n",
       "      <td>2016-01-12 17:43:44</td>\n",
       "      <td>2016-01-12 18:06:31</td>\n",
       "      <td>1</td>\n",
       "      <td>-73.967453</td>\n",
       "      <td>40.756359</td>\n",
       "      <td>-74.009987</td>\n",
       "      <td>40.705448</td>\n",
       "      <td>N</td>\n",
       "      <td>1367</td>\n",
       "    </tr>\n",
       "    <tr>\n",
       "      <th>499996</th>\n",
       "      <td>id2706575</td>\n",
       "      <td>1</td>\n",
       "      <td>2016-01-20 10:57:24</td>\n",
       "      <td>2016-01-20 11:08:26</td>\n",
       "      <td>1</td>\n",
       "      <td>-73.978302</td>\n",
       "      <td>40.766560</td>\n",
       "      <td>-73.973289</td>\n",
       "      <td>40.754971</td>\n",
       "      <td>N</td>\n",
       "      <td>662</td>\n",
       "    </tr>\n",
       "    <tr>\n",
       "      <th>499997</th>\n",
       "      <td>id2863638</td>\n",
       "      <td>2</td>\n",
       "      <td>2016-01-11 19:47:54</td>\n",
       "      <td>2016-01-11 19:53:44</td>\n",
       "      <td>2</td>\n",
       "      <td>-73.930717</td>\n",
       "      <td>40.766140</td>\n",
       "      <td>-73.911072</td>\n",
       "      <td>40.776360</td>\n",
       "      <td>N</td>\n",
       "      <td>350</td>\n",
       "    </tr>\n",
       "    <tr>\n",
       "      <th>499998</th>\n",
       "      <td>id0810053</td>\n",
       "      <td>1</td>\n",
       "      <td>2016-03-21 19:03:15</td>\n",
       "      <td>2016-03-21 19:43:09</td>\n",
       "      <td>1</td>\n",
       "      <td>-73.776718</td>\n",
       "      <td>40.645287</td>\n",
       "      <td>-73.964996</td>\n",
       "      <td>40.683578</td>\n",
       "      <td>N</td>\n",
       "      <td>2394</td>\n",
       "    </tr>\n",
       "    <tr>\n",
       "      <th>499999</th>\n",
       "      <td>id2645943</td>\n",
       "      <td>1</td>\n",
       "      <td>2016-06-03 07:42:22</td>\n",
       "      <td>2016-06-03 07:50:15</td>\n",
       "      <td>1</td>\n",
       "      <td>-73.943405</td>\n",
       "      <td>40.796143</td>\n",
       "      <td>-73.936432</td>\n",
       "      <td>40.808273</td>\n",
       "      <td>N</td>\n",
       "      <td>473</td>\n",
       "    </tr>\n",
       "  </tbody>\n",
       "</table>\n",
       "<p>500000 rows × 11 columns</p>\n",
       "</div>"
      ],
      "text/plain": [
       "               id  vendor_id      pickup_datetime     dropoff_datetime  \\\n",
       "0       id3747120          1  2016-02-19 10:50:21  2016-02-19 11:06:52   \n",
       "1       id0945209          1  2016-03-13 21:11:23  2016-03-13 21:33:30   \n",
       "2       id1965492          2  2016-04-17 19:50:40  2016-04-17 20:08:16   \n",
       "3       id2017880          2  2016-06-09 11:10:50  2016-06-09 11:28:32   \n",
       "4       id1433638          1  2016-04-09 02:52:33  2016-04-09 03:03:16   \n",
       "...           ...        ...                  ...                  ...   \n",
       "499995  id3591094          2  2016-01-12 17:43:44  2016-01-12 18:06:31   \n",
       "499996  id2706575          1  2016-01-20 10:57:24  2016-01-20 11:08:26   \n",
       "499997  id2863638          2  2016-01-11 19:47:54  2016-01-11 19:53:44   \n",
       "499998  id0810053          1  2016-03-21 19:03:15  2016-03-21 19:43:09   \n",
       "499999  id2645943          1  2016-06-03 07:42:22  2016-06-03 07:50:15   \n",
       "\n",
       "        passenger_count  pickup_longitude  pickup_latitude  dropoff_longitude  \\\n",
       "0                     1        -73.996262        40.739708         -73.989021   \n",
       "1                     1        -73.955566        40.779476         -73.903313   \n",
       "2                     2        -73.994476        40.750340         -73.983673   \n",
       "3                     1        -73.983673        40.743881         -74.003998   \n",
       "4                     3        -73.987015        40.729233         -73.996033   \n",
       "...                 ...               ...              ...                ...   \n",
       "499995                1        -73.967453        40.756359         -74.009987   \n",
       "499996                1        -73.978302        40.766560         -73.973289   \n",
       "499997                2        -73.930717        40.766140         -73.911072   \n",
       "499998                1        -73.776718        40.645287         -73.964996   \n",
       "499999                1        -73.943405        40.796143         -73.936432   \n",
       "\n",
       "        dropoff_latitude store_and_fwd_flag  trip_duration  \n",
       "0              40.743526                  N            991  \n",
       "1              40.746105                  N           1327  \n",
       "2              40.716099                  N           1056  \n",
       "3              40.717060                  N           1062  \n",
       "4              40.753590                  N            643  \n",
       "...                  ...                ...            ...  \n",
       "499995         40.705448                  N           1367  \n",
       "499996         40.754971                  N            662  \n",
       "499997         40.776360                  N            350  \n",
       "499998         40.683578                  N           2394  \n",
       "499999         40.808273                  N            473  \n",
       "\n",
       "[500000 rows x 11 columns]"
      ]
     },
     "execution_count": 6,
     "metadata": {},
     "output_type": "execute_result"
    }
   ],
   "source": [
    "taxi"
   ]
  },
  {
   "cell_type": "code",
   "execution_count": 7,
   "metadata": {},
   "outputs": [],
   "source": [
    "#Convert 'pickup_datetime' and 'dropoff_datetime' from object datatype to datetime datatype\n",
    "\n",
    "taxi['pickup_datetime'] = pd.to_datetime(taxi['pickup_datetime'])\n",
    "\n",
    "taxi['dropoff_datetime'] = pd.to_datetime(taxi['dropoff_datetime'])"
   ]
  },
  {
   "cell_type": "code",
   "execution_count": null,
   "metadata": {},
   "outputs": [],
   "source": []
  },
  {
   "cell_type": "code",
   "execution_count": 8,
   "metadata": {},
   "outputs": [],
   "source": [
    "#Create 'pickup_day'\n",
    "\n",
    "taxi['pickup_day'] = taxi['pickup_datetime'].dt.day_name()"
   ]
  },
  {
   "cell_type": "code",
   "execution_count": null,
   "metadata": {},
   "outputs": [],
   "source": []
  },
  {
   "cell_type": "code",
   "execution_count": 9,
   "metadata": {},
   "outputs": [
    {
     "data": {
      "text/html": [
       "<div>\n",
       "<style scoped>\n",
       "    .dataframe tbody tr th:only-of-type {\n",
       "        vertical-align: middle;\n",
       "    }\n",
       "\n",
       "    .dataframe tbody tr th {\n",
       "        vertical-align: top;\n",
       "    }\n",
       "\n",
       "    .dataframe thead th {\n",
       "        text-align: right;\n",
       "    }\n",
       "</style>\n",
       "<table border=\"1\" class=\"dataframe\">\n",
       "  <thead>\n",
       "    <tr style=\"text-align: right;\">\n",
       "      <th></th>\n",
       "      <th>id</th>\n",
       "      <th>vendor_id</th>\n",
       "      <th>pickup_datetime</th>\n",
       "      <th>dropoff_datetime</th>\n",
       "      <th>passenger_count</th>\n",
       "      <th>pickup_longitude</th>\n",
       "      <th>pickup_latitude</th>\n",
       "      <th>dropoff_longitude</th>\n",
       "      <th>dropoff_latitude</th>\n",
       "      <th>store_and_fwd_flag</th>\n",
       "      <th>trip_duration</th>\n",
       "      <th>pickup_day</th>\n",
       "    </tr>\n",
       "  </thead>\n",
       "  <tbody>\n",
       "    <tr>\n",
       "      <th>0</th>\n",
       "      <td>id3747120</td>\n",
       "      <td>1</td>\n",
       "      <td>2016-02-19 10:50:21</td>\n",
       "      <td>2016-02-19 11:06:52</td>\n",
       "      <td>1</td>\n",
       "      <td>-73.996262</td>\n",
       "      <td>40.739708</td>\n",
       "      <td>-73.989021</td>\n",
       "      <td>40.743526</td>\n",
       "      <td>N</td>\n",
       "      <td>16.52</td>\n",
       "      <td>Friday</td>\n",
       "    </tr>\n",
       "    <tr>\n",
       "      <th>1</th>\n",
       "      <td>id0945209</td>\n",
       "      <td>1</td>\n",
       "      <td>2016-03-13 21:11:23</td>\n",
       "      <td>2016-03-13 21:33:30</td>\n",
       "      <td>1</td>\n",
       "      <td>-73.955566</td>\n",
       "      <td>40.779476</td>\n",
       "      <td>-73.903313</td>\n",
       "      <td>40.746105</td>\n",
       "      <td>N</td>\n",
       "      <td>22.12</td>\n",
       "      <td>Sunday</td>\n",
       "    </tr>\n",
       "    <tr>\n",
       "      <th>2</th>\n",
       "      <td>id1965492</td>\n",
       "      <td>2</td>\n",
       "      <td>2016-04-17 19:50:40</td>\n",
       "      <td>2016-04-17 20:08:16</td>\n",
       "      <td>2</td>\n",
       "      <td>-73.994476</td>\n",
       "      <td>40.750340</td>\n",
       "      <td>-73.983673</td>\n",
       "      <td>40.716099</td>\n",
       "      <td>N</td>\n",
       "      <td>17.60</td>\n",
       "      <td>Sunday</td>\n",
       "    </tr>\n",
       "    <tr>\n",
       "      <th>3</th>\n",
       "      <td>id2017880</td>\n",
       "      <td>2</td>\n",
       "      <td>2016-06-09 11:10:50</td>\n",
       "      <td>2016-06-09 11:28:32</td>\n",
       "      <td>1</td>\n",
       "      <td>-73.983673</td>\n",
       "      <td>40.743881</td>\n",
       "      <td>-74.003998</td>\n",
       "      <td>40.717060</td>\n",
       "      <td>N</td>\n",
       "      <td>17.70</td>\n",
       "      <td>Thursday</td>\n",
       "    </tr>\n",
       "    <tr>\n",
       "      <th>4</th>\n",
       "      <td>id1433638</td>\n",
       "      <td>1</td>\n",
       "      <td>2016-04-09 02:52:33</td>\n",
       "      <td>2016-04-09 03:03:16</td>\n",
       "      <td>3</td>\n",
       "      <td>-73.987015</td>\n",
       "      <td>40.729233</td>\n",
       "      <td>-73.996033</td>\n",
       "      <td>40.753590</td>\n",
       "      <td>N</td>\n",
       "      <td>10.72</td>\n",
       "      <td>Saturday</td>\n",
       "    </tr>\n",
       "    <tr>\n",
       "      <th>...</th>\n",
       "      <td>...</td>\n",
       "      <td>...</td>\n",
       "      <td>...</td>\n",
       "      <td>...</td>\n",
       "      <td>...</td>\n",
       "      <td>...</td>\n",
       "      <td>...</td>\n",
       "      <td>...</td>\n",
       "      <td>...</td>\n",
       "      <td>...</td>\n",
       "      <td>...</td>\n",
       "      <td>...</td>\n",
       "    </tr>\n",
       "    <tr>\n",
       "      <th>499995</th>\n",
       "      <td>id3591094</td>\n",
       "      <td>2</td>\n",
       "      <td>2016-01-12 17:43:44</td>\n",
       "      <td>2016-01-12 18:06:31</td>\n",
       "      <td>1</td>\n",
       "      <td>-73.967453</td>\n",
       "      <td>40.756359</td>\n",
       "      <td>-74.009987</td>\n",
       "      <td>40.705448</td>\n",
       "      <td>N</td>\n",
       "      <td>22.78</td>\n",
       "      <td>Tuesday</td>\n",
       "    </tr>\n",
       "    <tr>\n",
       "      <th>499996</th>\n",
       "      <td>id2706575</td>\n",
       "      <td>1</td>\n",
       "      <td>2016-01-20 10:57:24</td>\n",
       "      <td>2016-01-20 11:08:26</td>\n",
       "      <td>1</td>\n",
       "      <td>-73.978302</td>\n",
       "      <td>40.766560</td>\n",
       "      <td>-73.973289</td>\n",
       "      <td>40.754971</td>\n",
       "      <td>N</td>\n",
       "      <td>11.03</td>\n",
       "      <td>Wednesday</td>\n",
       "    </tr>\n",
       "    <tr>\n",
       "      <th>499997</th>\n",
       "      <td>id2863638</td>\n",
       "      <td>2</td>\n",
       "      <td>2016-01-11 19:47:54</td>\n",
       "      <td>2016-01-11 19:53:44</td>\n",
       "      <td>2</td>\n",
       "      <td>-73.930717</td>\n",
       "      <td>40.766140</td>\n",
       "      <td>-73.911072</td>\n",
       "      <td>40.776360</td>\n",
       "      <td>N</td>\n",
       "      <td>5.83</td>\n",
       "      <td>Monday</td>\n",
       "    </tr>\n",
       "    <tr>\n",
       "      <th>499998</th>\n",
       "      <td>id0810053</td>\n",
       "      <td>1</td>\n",
       "      <td>2016-03-21 19:03:15</td>\n",
       "      <td>2016-03-21 19:43:09</td>\n",
       "      <td>1</td>\n",
       "      <td>-73.776718</td>\n",
       "      <td>40.645287</td>\n",
       "      <td>-73.964996</td>\n",
       "      <td>40.683578</td>\n",
       "      <td>N</td>\n",
       "      <td>39.90</td>\n",
       "      <td>Monday</td>\n",
       "    </tr>\n",
       "    <tr>\n",
       "      <th>499999</th>\n",
       "      <td>id2645943</td>\n",
       "      <td>1</td>\n",
       "      <td>2016-06-03 07:42:22</td>\n",
       "      <td>2016-06-03 07:50:15</td>\n",
       "      <td>1</td>\n",
       "      <td>-73.943405</td>\n",
       "      <td>40.796143</td>\n",
       "      <td>-73.936432</td>\n",
       "      <td>40.808273</td>\n",
       "      <td>N</td>\n",
       "      <td>7.88</td>\n",
       "      <td>Friday</td>\n",
       "    </tr>\n",
       "  </tbody>\n",
       "</table>\n",
       "<p>500000 rows × 12 columns</p>\n",
       "</div>"
      ],
      "text/plain": [
       "               id  vendor_id     pickup_datetime    dropoff_datetime  \\\n",
       "0       id3747120          1 2016-02-19 10:50:21 2016-02-19 11:06:52   \n",
       "1       id0945209          1 2016-03-13 21:11:23 2016-03-13 21:33:30   \n",
       "2       id1965492          2 2016-04-17 19:50:40 2016-04-17 20:08:16   \n",
       "3       id2017880          2 2016-06-09 11:10:50 2016-06-09 11:28:32   \n",
       "4       id1433638          1 2016-04-09 02:52:33 2016-04-09 03:03:16   \n",
       "...           ...        ...                 ...                 ...   \n",
       "499995  id3591094          2 2016-01-12 17:43:44 2016-01-12 18:06:31   \n",
       "499996  id2706575          1 2016-01-20 10:57:24 2016-01-20 11:08:26   \n",
       "499997  id2863638          2 2016-01-11 19:47:54 2016-01-11 19:53:44   \n",
       "499998  id0810053          1 2016-03-21 19:03:15 2016-03-21 19:43:09   \n",
       "499999  id2645943          1 2016-06-03 07:42:22 2016-06-03 07:50:15   \n",
       "\n",
       "        passenger_count  pickup_longitude  pickup_latitude  dropoff_longitude  \\\n",
       "0                     1        -73.996262        40.739708         -73.989021   \n",
       "1                     1        -73.955566        40.779476         -73.903313   \n",
       "2                     2        -73.994476        40.750340         -73.983673   \n",
       "3                     1        -73.983673        40.743881         -74.003998   \n",
       "4                     3        -73.987015        40.729233         -73.996033   \n",
       "...                 ...               ...              ...                ...   \n",
       "499995                1        -73.967453        40.756359         -74.009987   \n",
       "499996                1        -73.978302        40.766560         -73.973289   \n",
       "499997                2        -73.930717        40.766140         -73.911072   \n",
       "499998                1        -73.776718        40.645287         -73.964996   \n",
       "499999                1        -73.943405        40.796143         -73.936432   \n",
       "\n",
       "        dropoff_latitude store_and_fwd_flag  trip_duration pickup_day  \n",
       "0              40.743526                  N          16.52     Friday  \n",
       "1              40.746105                  N          22.12     Sunday  \n",
       "2              40.716099                  N          17.60     Sunday  \n",
       "3              40.717060                  N          17.70   Thursday  \n",
       "4              40.753590                  N          10.72   Saturday  \n",
       "...                  ...                ...            ...        ...  \n",
       "499995         40.705448                  N          22.78    Tuesday  \n",
       "499996         40.754971                  N          11.03  Wednesday  \n",
       "499997         40.776360                  N           5.83     Monday  \n",
       "499998         40.683578                  N          39.90     Monday  \n",
       "499999         40.808273                  N           7.88     Friday  \n",
       "\n",
       "[500000 rows x 12 columns]"
      ]
     },
     "execution_count": 9,
     "metadata": {},
     "output_type": "execute_result"
    }
   ],
   "source": [
    "#Change trip duration from seconds to minutes\n",
    "\n",
    "taxi['trip_duration'] = ((taxi['dropoff_datetime'] - taxi['pickup_datetime']).dt.total_seconds()/60).round(2) \n",
    "taxi"
   ]
  },
  {
   "cell_type": "code",
   "execution_count": 10,
   "metadata": {},
   "outputs": [],
   "source": [
    "#Combine pickup latitude and longitude\n",
    "\n",
    "taxi['pickup_lat_long'] = list(zip(taxi.pickup_latitude, taxi.pickup_longitude))"
   ]
  },
  {
   "cell_type": "code",
   "execution_count": null,
   "metadata": {},
   "outputs": [],
   "source": []
  },
  {
   "cell_type": "code",
   "execution_count": 11,
   "metadata": {},
   "outputs": [],
   "source": [
    "#Combine dropoff latitude and longitude\n",
    "\n",
    "taxi['dropoff_lat_long'] = list(zip(taxi.dropoff_latitude, taxi.dropoff_longitude))"
   ]
  },
  {
   "cell_type": "code",
   "execution_count": null,
   "metadata": {},
   "outputs": [],
   "source": []
  },
  {
   "cell_type": "code",
   "execution_count": 14,
   "metadata": {},
   "outputs": [
    {
     "data": {
      "text/html": [
       "<div>\n",
       "<style scoped>\n",
       "    .dataframe tbody tr th:only-of-type {\n",
       "        vertical-align: middle;\n",
       "    }\n",
       "\n",
       "    .dataframe tbody tr th {\n",
       "        vertical-align: top;\n",
       "    }\n",
       "\n",
       "    .dataframe thead th {\n",
       "        text-align: right;\n",
       "    }\n",
       "</style>\n",
       "<table border=\"1\" class=\"dataframe\">\n",
       "  <thead>\n",
       "    <tr style=\"text-align: right;\">\n",
       "      <th></th>\n",
       "      <th>id</th>\n",
       "      <th>vendor_id</th>\n",
       "      <th>pickup_datetime</th>\n",
       "      <th>dropoff_datetime</th>\n",
       "      <th>passenger_count</th>\n",
       "      <th>pickup_longitude</th>\n",
       "      <th>pickup_latitude</th>\n",
       "      <th>dropoff_longitude</th>\n",
       "      <th>dropoff_latitude</th>\n",
       "      <th>store_and_fwd_flag</th>\n",
       "      <th>trip_duration</th>\n",
       "      <th>pickup_day</th>\n",
       "      <th>pickup_lat_long</th>\n",
       "      <th>dropoff_lat_long</th>\n",
       "      <th>distance</th>\n",
       "    </tr>\n",
       "  </thead>\n",
       "  <tbody>\n",
       "    <tr>\n",
       "      <th>0</th>\n",
       "      <td>id3747120</td>\n",
       "      <td>1</td>\n",
       "      <td>2016-02-19 10:50:21</td>\n",
       "      <td>2016-02-19 11:06:52</td>\n",
       "      <td>1</td>\n",
       "      <td>-73.996262</td>\n",
       "      <td>40.739708</td>\n",
       "      <td>-73.989021</td>\n",
       "      <td>40.743526</td>\n",
       "      <td>N</td>\n",
       "      <td>16.52</td>\n",
       "      <td>Friday</td>\n",
       "      <td>(40.739707946777344, -73.99626159667969)</td>\n",
       "      <td>(40.74352645874024, -73.98902130126955)</td>\n",
       "      <td>0.743210</td>\n",
       "    </tr>\n",
       "    <tr>\n",
       "      <th>1</th>\n",
       "      <td>id0945209</td>\n",
       "      <td>1</td>\n",
       "      <td>2016-03-13 21:11:23</td>\n",
       "      <td>2016-03-13 21:33:30</td>\n",
       "      <td>1</td>\n",
       "      <td>-73.955566</td>\n",
       "      <td>40.779476</td>\n",
       "      <td>-73.903313</td>\n",
       "      <td>40.746105</td>\n",
       "      <td>N</td>\n",
       "      <td>22.12</td>\n",
       "      <td>Sunday</td>\n",
       "      <td>(40.77947616577149, -73.95556640625)</td>\n",
       "      <td>(40.7461051940918, -73.90331268310547)</td>\n",
       "      <td>5.756459</td>\n",
       "    </tr>\n",
       "    <tr>\n",
       "      <th>2</th>\n",
       "      <td>id1965492</td>\n",
       "      <td>2</td>\n",
       "      <td>2016-04-17 19:50:40</td>\n",
       "      <td>2016-04-17 20:08:16</td>\n",
       "      <td>2</td>\n",
       "      <td>-73.994476</td>\n",
       "      <td>40.750340</td>\n",
       "      <td>-73.983673</td>\n",
       "      <td>40.716099</td>\n",
       "      <td>N</td>\n",
       "      <td>17.60</td>\n",
       "      <td>Sunday</td>\n",
       "      <td>(40.75033950805664, -73.99447631835938)</td>\n",
       "      <td>(40.71609878540039, -73.98367309570312)</td>\n",
       "      <td>3.914695</td>\n",
       "    </tr>\n",
       "    <tr>\n",
       "      <th>3</th>\n",
       "      <td>id2017880</td>\n",
       "      <td>2</td>\n",
       "      <td>2016-06-09 11:10:50</td>\n",
       "      <td>2016-06-09 11:28:32</td>\n",
       "      <td>1</td>\n",
       "      <td>-73.983673</td>\n",
       "      <td>40.743881</td>\n",
       "      <td>-74.003998</td>\n",
       "      <td>40.717060</td>\n",
       "      <td>N</td>\n",
       "      <td>17.70</td>\n",
       "      <td>Thursday</td>\n",
       "      <td>(40.74388122558594, -73.98367309570312)</td>\n",
       "      <td>(40.71706008911133, -74.00399780273438)</td>\n",
       "      <td>3.439123</td>\n",
       "    </tr>\n",
       "    <tr>\n",
       "      <th>4</th>\n",
       "      <td>id1433638</td>\n",
       "      <td>1</td>\n",
       "      <td>2016-04-09 02:52:33</td>\n",
       "      <td>2016-04-09 03:03:16</td>\n",
       "      <td>3</td>\n",
       "      <td>-73.987015</td>\n",
       "      <td>40.729233</td>\n",
       "      <td>-73.996033</td>\n",
       "      <td>40.753590</td>\n",
       "      <td>N</td>\n",
       "      <td>10.72</td>\n",
       "      <td>Saturday</td>\n",
       "      <td>(40.72923278808594, -73.98701477050781)</td>\n",
       "      <td>(40.75358963012695, -73.99603271484375)</td>\n",
       "      <td>2.812901</td>\n",
       "    </tr>\n",
       "    <tr>\n",
       "      <th>...</th>\n",
       "      <td>...</td>\n",
       "      <td>...</td>\n",
       "      <td>...</td>\n",
       "      <td>...</td>\n",
       "      <td>...</td>\n",
       "      <td>...</td>\n",
       "      <td>...</td>\n",
       "      <td>...</td>\n",
       "      <td>...</td>\n",
       "      <td>...</td>\n",
       "      <td>...</td>\n",
       "      <td>...</td>\n",
       "      <td>...</td>\n",
       "      <td>...</td>\n",
       "      <td>...</td>\n",
       "    </tr>\n",
       "    <tr>\n",
       "      <th>499995</th>\n",
       "      <td>id3591094</td>\n",
       "      <td>2</td>\n",
       "      <td>2016-01-12 17:43:44</td>\n",
       "      <td>2016-01-12 18:06:31</td>\n",
       "      <td>1</td>\n",
       "      <td>-73.967453</td>\n",
       "      <td>40.756359</td>\n",
       "      <td>-74.009987</td>\n",
       "      <td>40.705448</td>\n",
       "      <td>N</td>\n",
       "      <td>22.78</td>\n",
       "      <td>Tuesday</td>\n",
       "      <td>(40.7563591003418, -73.9674530029297)</td>\n",
       "      <td>(40.70544815063477, -74.0099868774414)</td>\n",
       "      <td>6.700165</td>\n",
       "    </tr>\n",
       "    <tr>\n",
       "      <th>499996</th>\n",
       "      <td>id2706575</td>\n",
       "      <td>1</td>\n",
       "      <td>2016-01-20 10:57:24</td>\n",
       "      <td>2016-01-20 11:08:26</td>\n",
       "      <td>1</td>\n",
       "      <td>-73.978302</td>\n",
       "      <td>40.766560</td>\n",
       "      <td>-73.973289</td>\n",
       "      <td>40.754971</td>\n",
       "      <td>N</td>\n",
       "      <td>11.03</td>\n",
       "      <td>Wednesday</td>\n",
       "      <td>(40.76655960083008, -73.97830200195312)</td>\n",
       "      <td>(40.75497055053711, -73.9732894897461)</td>\n",
       "      <td>1.356035</td>\n",
       "    </tr>\n",
       "    <tr>\n",
       "      <th>499997</th>\n",
       "      <td>id2863638</td>\n",
       "      <td>2</td>\n",
       "      <td>2016-01-11 19:47:54</td>\n",
       "      <td>2016-01-11 19:53:44</td>\n",
       "      <td>2</td>\n",
       "      <td>-73.930717</td>\n",
       "      <td>40.766140</td>\n",
       "      <td>-73.911072</td>\n",
       "      <td>40.776360</td>\n",
       "      <td>N</td>\n",
       "      <td>5.83</td>\n",
       "      <td>Monday</td>\n",
       "      <td>(40.76613998413085, -73.93071746826173)</td>\n",
       "      <td>(40.77635955810547, -73.91107177734375)</td>\n",
       "      <td>2.007056</td>\n",
       "    </tr>\n",
       "    <tr>\n",
       "      <th>499998</th>\n",
       "      <td>id0810053</td>\n",
       "      <td>1</td>\n",
       "      <td>2016-03-21 19:03:15</td>\n",
       "      <td>2016-03-21 19:43:09</td>\n",
       "      <td>1</td>\n",
       "      <td>-73.776718</td>\n",
       "      <td>40.645287</td>\n",
       "      <td>-73.964996</td>\n",
       "      <td>40.683578</td>\n",
       "      <td>N</td>\n",
       "      <td>39.90</td>\n",
       "      <td>Monday</td>\n",
       "      <td>(40.645286560058594, -73.77671813964845)</td>\n",
       "      <td>(40.68357849121094, -73.96499633789062)</td>\n",
       "      <td>16.441355</td>\n",
       "    </tr>\n",
       "    <tr>\n",
       "      <th>499999</th>\n",
       "      <td>id2645943</td>\n",
       "      <td>1</td>\n",
       "      <td>2016-06-03 07:42:22</td>\n",
       "      <td>2016-06-03 07:50:15</td>\n",
       "      <td>1</td>\n",
       "      <td>-73.943405</td>\n",
       "      <td>40.796143</td>\n",
       "      <td>-73.936432</td>\n",
       "      <td>40.808273</td>\n",
       "      <td>N</td>\n",
       "      <td>7.88</td>\n",
       "      <td>Friday</td>\n",
       "      <td>(40.796142578125, -73.9434051513672)</td>\n",
       "      <td>(40.80827331542969, -73.93643188476562)</td>\n",
       "      <td>1.471046</td>\n",
       "    </tr>\n",
       "  </tbody>\n",
       "</table>\n",
       "<p>500000 rows × 15 columns</p>\n",
       "</div>"
      ],
      "text/plain": [
       "               id  vendor_id     pickup_datetime    dropoff_datetime  \\\n",
       "0       id3747120          1 2016-02-19 10:50:21 2016-02-19 11:06:52   \n",
       "1       id0945209          1 2016-03-13 21:11:23 2016-03-13 21:33:30   \n",
       "2       id1965492          2 2016-04-17 19:50:40 2016-04-17 20:08:16   \n",
       "3       id2017880          2 2016-06-09 11:10:50 2016-06-09 11:28:32   \n",
       "4       id1433638          1 2016-04-09 02:52:33 2016-04-09 03:03:16   \n",
       "...           ...        ...                 ...                 ...   \n",
       "499995  id3591094          2 2016-01-12 17:43:44 2016-01-12 18:06:31   \n",
       "499996  id2706575          1 2016-01-20 10:57:24 2016-01-20 11:08:26   \n",
       "499997  id2863638          2 2016-01-11 19:47:54 2016-01-11 19:53:44   \n",
       "499998  id0810053          1 2016-03-21 19:03:15 2016-03-21 19:43:09   \n",
       "499999  id2645943          1 2016-06-03 07:42:22 2016-06-03 07:50:15   \n",
       "\n",
       "        passenger_count  pickup_longitude  pickup_latitude  dropoff_longitude  \\\n",
       "0                     1        -73.996262        40.739708         -73.989021   \n",
       "1                     1        -73.955566        40.779476         -73.903313   \n",
       "2                     2        -73.994476        40.750340         -73.983673   \n",
       "3                     1        -73.983673        40.743881         -74.003998   \n",
       "4                     3        -73.987015        40.729233         -73.996033   \n",
       "...                 ...               ...              ...                ...   \n",
       "499995                1        -73.967453        40.756359         -74.009987   \n",
       "499996                1        -73.978302        40.766560         -73.973289   \n",
       "499997                2        -73.930717        40.766140         -73.911072   \n",
       "499998                1        -73.776718        40.645287         -73.964996   \n",
       "499999                1        -73.943405        40.796143         -73.936432   \n",
       "\n",
       "        dropoff_latitude store_and_fwd_flag  trip_duration pickup_day  \\\n",
       "0              40.743526                  N          16.52     Friday   \n",
       "1              40.746105                  N          22.12     Sunday   \n",
       "2              40.716099                  N          17.60     Sunday   \n",
       "3              40.717060                  N          17.70   Thursday   \n",
       "4              40.753590                  N          10.72   Saturday   \n",
       "...                  ...                ...            ...        ...   \n",
       "499995         40.705448                  N          22.78    Tuesday   \n",
       "499996         40.754971                  N          11.03  Wednesday   \n",
       "499997         40.776360                  N           5.83     Monday   \n",
       "499998         40.683578                  N          39.90     Monday   \n",
       "499999         40.808273                  N           7.88     Friday   \n",
       "\n",
       "                                 pickup_lat_long  \\\n",
       "0       (40.739707946777344, -73.99626159667969)   \n",
       "1           (40.77947616577149, -73.95556640625)   \n",
       "2        (40.75033950805664, -73.99447631835938)   \n",
       "3        (40.74388122558594, -73.98367309570312)   \n",
       "4        (40.72923278808594, -73.98701477050781)   \n",
       "...                                          ...   \n",
       "499995     (40.7563591003418, -73.9674530029297)   \n",
       "499996   (40.76655960083008, -73.97830200195312)   \n",
       "499997   (40.76613998413085, -73.93071746826173)   \n",
       "499998  (40.645286560058594, -73.77671813964845)   \n",
       "499999      (40.796142578125, -73.9434051513672)   \n",
       "\n",
       "                               dropoff_lat_long   distance  \n",
       "0       (40.74352645874024, -73.98902130126955)   0.743210  \n",
       "1        (40.7461051940918, -73.90331268310547)   5.756459  \n",
       "2       (40.71609878540039, -73.98367309570312)   3.914695  \n",
       "3       (40.71706008911133, -74.00399780273438)   3.439123  \n",
       "4       (40.75358963012695, -73.99603271484375)   2.812901  \n",
       "...                                         ...        ...  \n",
       "499995   (40.70544815063477, -74.0099868774414)   6.700165  \n",
       "499996   (40.75497055053711, -73.9732894897461)   1.356035  \n",
       "499997  (40.77635955810547, -73.91107177734375)   2.007056  \n",
       "499998  (40.68357849121094, -73.96499633789062)  16.441355  \n",
       "499999  (40.80827331542969, -73.93643188476562)   1.471046  \n",
       "\n",
       "[500000 rows x 15 columns]"
      ]
     },
     "execution_count": 14,
     "metadata": {},
     "output_type": "execute_result"
    }
   ],
   "source": [
    "#Calculate distance from given coordinates in miles\n",
    "\n",
    "#!pip install mpu\n",
    "#import mpu\n",
    "taxi['distance'] = taxi.apply(lambda x: mpu.haversine_distance(x['pickup_lat_long'], x['dropoff_lat_long']), 1)\n",
    "taxi"
   ]
  },
  {
   "cell_type": "code",
   "execution_count": null,
   "metadata": {},
   "outputs": [],
   "source": []
  },
  {
   "cell_type": "code",
   "execution_count": 15,
   "metadata": {},
   "outputs": [
    {
     "data": {
      "text/html": [
       "<div>\n",
       "<style scoped>\n",
       "    .dataframe tbody tr th:only-of-type {\n",
       "        vertical-align: middle;\n",
       "    }\n",
       "\n",
       "    .dataframe tbody tr th {\n",
       "        vertical-align: top;\n",
       "    }\n",
       "\n",
       "    .dataframe thead tr th {\n",
       "        text-align: left;\n",
       "    }\n",
       "\n",
       "    .dataframe thead tr:last-of-type th {\n",
       "        text-align: right;\n",
       "    }\n",
       "</style>\n",
       "<table border=\"1\" class=\"dataframe\">\n",
       "  <thead>\n",
       "    <tr>\n",
       "      <th></th>\n",
       "      <th colspan=\"8\" halign=\"left\">passenger_count</th>\n",
       "      <th colspan=\"2\" halign=\"left\">pickup_longitude</th>\n",
       "      <th>...</th>\n",
       "      <th colspan=\"2\" halign=\"left\">trip_duration</th>\n",
       "      <th colspan=\"8\" halign=\"left\">distance</th>\n",
       "    </tr>\n",
       "    <tr>\n",
       "      <th></th>\n",
       "      <th>count</th>\n",
       "      <th>mean</th>\n",
       "      <th>std</th>\n",
       "      <th>min</th>\n",
       "      <th>25%</th>\n",
       "      <th>50%</th>\n",
       "      <th>75%</th>\n",
       "      <th>max</th>\n",
       "      <th>count</th>\n",
       "      <th>mean</th>\n",
       "      <th>...</th>\n",
       "      <th>75%</th>\n",
       "      <th>max</th>\n",
       "      <th>count</th>\n",
       "      <th>mean</th>\n",
       "      <th>std</th>\n",
       "      <th>min</th>\n",
       "      <th>25%</th>\n",
       "      <th>50%</th>\n",
       "      <th>75%</th>\n",
       "      <th>max</th>\n",
       "    </tr>\n",
       "    <tr>\n",
       "      <th>vendor_id</th>\n",
       "      <th></th>\n",
       "      <th></th>\n",
       "      <th></th>\n",
       "      <th></th>\n",
       "      <th></th>\n",
       "      <th></th>\n",
       "      <th></th>\n",
       "      <th></th>\n",
       "      <th></th>\n",
       "      <th></th>\n",
       "      <th></th>\n",
       "      <th></th>\n",
       "      <th></th>\n",
       "      <th></th>\n",
       "      <th></th>\n",
       "      <th></th>\n",
       "      <th></th>\n",
       "      <th></th>\n",
       "      <th></th>\n",
       "      <th></th>\n",
       "      <th></th>\n",
       "    </tr>\n",
       "  </thead>\n",
       "  <tbody>\n",
       "    <tr>\n",
       "      <th>1</th>\n",
       "      <td>232547.0</td>\n",
       "      <td>1.259388</td>\n",
       "      <td>0.612825</td>\n",
       "      <td>0.0</td>\n",
       "      <td>1.0</td>\n",
       "      <td>1.0</td>\n",
       "      <td>1.0</td>\n",
       "      <td>6.0</td>\n",
       "      <td>232547.0</td>\n",
       "      <td>-73.974013</td>\n",
       "      <td>...</td>\n",
       "      <td>17.83</td>\n",
       "      <td>34159.63</td>\n",
       "      <td>232547.0</td>\n",
       "      <td>3.416560</td>\n",
       "      <td>5.119934</td>\n",
       "      <td>0.0</td>\n",
       "      <td>1.227714</td>\n",
       "      <td>2.087514</td>\n",
       "      <td>3.856987</td>\n",
       "      <td>1240.908677</td>\n",
       "    </tr>\n",
       "    <tr>\n",
       "      <th>2</th>\n",
       "      <td>267453.0</td>\n",
       "      <td>2.016134</td>\n",
       "      <td>1.623134</td>\n",
       "      <td>0.0</td>\n",
       "      <td>1.0</td>\n",
       "      <td>1.0</td>\n",
       "      <td>2.0</td>\n",
       "      <td>8.0</td>\n",
       "      <td>267453.0</td>\n",
       "      <td>-73.972804</td>\n",
       "      <td>...</td>\n",
       "      <td>18.02</td>\n",
       "      <td>1439.78</td>\n",
       "      <td>267453.0</td>\n",
       "      <td>3.474177</td>\n",
       "      <td>4.022043</td>\n",
       "      <td>0.0</td>\n",
       "      <td>1.235609</td>\n",
       "      <td>2.102206</td>\n",
       "      <td>3.908609</td>\n",
       "      <td>97.586212</td>\n",
       "    </tr>\n",
       "  </tbody>\n",
       "</table>\n",
       "<p>2 rows × 56 columns</p>\n",
       "</div>"
      ],
      "text/plain": [
       "          passenger_count                                               \\\n",
       "                    count      mean       std  min  25%  50%  75%  max   \n",
       "vendor_id                                                                \n",
       "1                232547.0  1.259388  0.612825  0.0  1.0  1.0  1.0  6.0   \n",
       "2                267453.0  2.016134  1.623134  0.0  1.0  1.0  2.0  8.0   \n",
       "\n",
       "          pickup_longitude             ... trip_duration            distance  \\\n",
       "                     count       mean  ...           75%       max     count   \n",
       "vendor_id                              ...                                     \n",
       "1                 232547.0 -73.974013  ...         17.83  34159.63  232547.0   \n",
       "2                 267453.0 -73.972804  ...         18.02   1439.78  267453.0   \n",
       "\n",
       "                                                                               \n",
       "               mean       std  min       25%       50%       75%          max  \n",
       "vendor_id                                                                      \n",
       "1          3.416560  5.119934  0.0  1.227714  2.087514  3.856987  1240.908677  \n",
       "2          3.474177  4.022043  0.0  1.235609  2.102206  3.908609    97.586212  \n",
       "\n",
       "[2 rows x 56 columns]"
      ]
     },
     "execution_count": 15,
     "metadata": {},
     "output_type": "execute_result"
    }
   ],
   "source": [
    "#Group by 'vendor'\n",
    "\n",
    "vendor = taxi.groupby('vendor_id')\n",
    "vendor.describe()"
   ]
  },
  {
   "cell_type": "code",
   "execution_count": null,
   "metadata": {},
   "outputs": [],
   "source": []
  },
  {
   "cell_type": "code",
   "execution_count": 16,
   "metadata": {},
   "outputs": [
    {
     "data": {
      "text/html": [
       "<div>\n",
       "<style scoped>\n",
       "    .dataframe tbody tr th:only-of-type {\n",
       "        vertical-align: middle;\n",
       "    }\n",
       "\n",
       "    .dataframe tbody tr th {\n",
       "        vertical-align: top;\n",
       "    }\n",
       "\n",
       "    .dataframe thead tr th {\n",
       "        text-align: left;\n",
       "    }\n",
       "\n",
       "    .dataframe thead tr:last-of-type th {\n",
       "        text-align: right;\n",
       "    }\n",
       "</style>\n",
       "<table border=\"1\" class=\"dataframe\">\n",
       "  <thead>\n",
       "    <tr>\n",
       "      <th></th>\n",
       "      <th colspan=\"8\" halign=\"left\">vendor_id</th>\n",
       "      <th colspan=\"2\" halign=\"left\">pickup_longitude</th>\n",
       "      <th>...</th>\n",
       "      <th colspan=\"2\" halign=\"left\">trip_duration</th>\n",
       "      <th colspan=\"8\" halign=\"left\">distance</th>\n",
       "    </tr>\n",
       "    <tr>\n",
       "      <th></th>\n",
       "      <th>count</th>\n",
       "      <th>mean</th>\n",
       "      <th>std</th>\n",
       "      <th>min</th>\n",
       "      <th>25%</th>\n",
       "      <th>50%</th>\n",
       "      <th>75%</th>\n",
       "      <th>max</th>\n",
       "      <th>count</th>\n",
       "      <th>mean</th>\n",
       "      <th>...</th>\n",
       "      <th>75%</th>\n",
       "      <th>max</th>\n",
       "      <th>count</th>\n",
       "      <th>mean</th>\n",
       "      <th>std</th>\n",
       "      <th>min</th>\n",
       "      <th>25%</th>\n",
       "      <th>50%</th>\n",
       "      <th>75%</th>\n",
       "      <th>max</th>\n",
       "    </tr>\n",
       "    <tr>\n",
       "      <th>passenger_count</th>\n",
       "      <th></th>\n",
       "      <th></th>\n",
       "      <th></th>\n",
       "      <th></th>\n",
       "      <th></th>\n",
       "      <th></th>\n",
       "      <th></th>\n",
       "      <th></th>\n",
       "      <th></th>\n",
       "      <th></th>\n",
       "      <th></th>\n",
       "      <th></th>\n",
       "      <th></th>\n",
       "      <th></th>\n",
       "      <th></th>\n",
       "      <th></th>\n",
       "      <th></th>\n",
       "      <th></th>\n",
       "      <th></th>\n",
       "      <th></th>\n",
       "      <th></th>\n",
       "    </tr>\n",
       "  </thead>\n",
       "  <tbody>\n",
       "    <tr>\n",
       "      <th>0</th>\n",
       "      <td>24.0</td>\n",
       "      <td>1.333333</td>\n",
       "      <td>0.481543</td>\n",
       "      <td>1.0</td>\n",
       "      <td>1.0</td>\n",
       "      <td>1.0</td>\n",
       "      <td>2.0</td>\n",
       "      <td>2.0</td>\n",
       "      <td>24.0</td>\n",
       "      <td>-73.957004</td>\n",
       "      <td>...</td>\n",
       "      <td>5.790</td>\n",
       "      <td>54.05</td>\n",
       "      <td>24.0</td>\n",
       "      <td>2.081963</td>\n",
       "      <td>4.692339</td>\n",
       "      <td>0.000000</td>\n",
       "      <td>0.002452</td>\n",
       "      <td>0.016016</td>\n",
       "      <td>1.578588</td>\n",
       "      <td>19.013222</td>\n",
       "    </tr>\n",
       "    <tr>\n",
       "      <th>1</th>\n",
       "      <td>354340.0</td>\n",
       "      <td>1.467260</td>\n",
       "      <td>0.498928</td>\n",
       "      <td>1.0</td>\n",
       "      <td>1.0</td>\n",
       "      <td>1.0</td>\n",
       "      <td>2.0</td>\n",
       "      <td>2.0</td>\n",
       "      <td>354340.0</td>\n",
       "      <td>-73.973471</td>\n",
       "      <td>...</td>\n",
       "      <td>17.700</td>\n",
       "      <td>32328.93</td>\n",
       "      <td>354340.0</td>\n",
       "      <td>3.384785</td>\n",
       "      <td>4.422568</td>\n",
       "      <td>0.000000</td>\n",
       "      <td>1.219024</td>\n",
       "      <td>2.071817</td>\n",
       "      <td>3.822497</td>\n",
       "      <td>1240.908677</td>\n",
       "    </tr>\n",
       "    <tr>\n",
       "      <th>2</th>\n",
       "      <td>72045.0</td>\n",
       "      <td>1.560983</td>\n",
       "      <td>0.496271</td>\n",
       "      <td>1.0</td>\n",
       "      <td>1.0</td>\n",
       "      <td>2.0</td>\n",
       "      <td>2.0</td>\n",
       "      <td>2.0</td>\n",
       "      <td>72045.0</td>\n",
       "      <td>-73.973038</td>\n",
       "      <td>...</td>\n",
       "      <td>18.730</td>\n",
       "      <td>34159.63</td>\n",
       "      <td>72045.0</td>\n",
       "      <td>3.680935</td>\n",
       "      <td>5.605741</td>\n",
       "      <td>0.000000</td>\n",
       "      <td>1.275010</td>\n",
       "      <td>2.176080</td>\n",
       "      <td>4.101557</td>\n",
       "      <td>578.842818</td>\n",
       "    </tr>\n",
       "    <tr>\n",
       "      <th>3</th>\n",
       "      <td>20633.0</td>\n",
       "      <td>1.615907</td>\n",
       "      <td>0.486392</td>\n",
       "      <td>1.0</td>\n",
       "      <td>1.0</td>\n",
       "      <td>2.0</td>\n",
       "      <td>2.0</td>\n",
       "      <td>2.0</td>\n",
       "      <td>20633.0</td>\n",
       "      <td>-73.974103</td>\n",
       "      <td>...</td>\n",
       "      <td>18.650</td>\n",
       "      <td>1439.42</td>\n",
       "      <td>20633.0</td>\n",
       "      <td>3.560908</td>\n",
       "      <td>4.196276</td>\n",
       "      <td>0.000000</td>\n",
       "      <td>1.268869</td>\n",
       "      <td>2.140523</td>\n",
       "      <td>4.002949</td>\n",
       "      <td>135.275586</td>\n",
       "    </tr>\n",
       "    <tr>\n",
       "      <th>4</th>\n",
       "      <td>9548.0</td>\n",
       "      <td>1.578865</td>\n",
       "      <td>0.493767</td>\n",
       "      <td>1.0</td>\n",
       "      <td>1.0</td>\n",
       "      <td>2.0</td>\n",
       "      <td>2.0</td>\n",
       "      <td>2.0</td>\n",
       "      <td>9548.0</td>\n",
       "      <td>-73.973925</td>\n",
       "      <td>...</td>\n",
       "      <td>18.970</td>\n",
       "      <td>1439.65</td>\n",
       "      <td>9548.0</td>\n",
       "      <td>3.632720</td>\n",
       "      <td>4.243437</td>\n",
       "      <td>0.000000</td>\n",
       "      <td>1.257529</td>\n",
       "      <td>2.162604</td>\n",
       "      <td>4.078617</td>\n",
       "      <td>35.425092</td>\n",
       "    </tr>\n",
       "    <tr>\n",
       "      <th>5</th>\n",
       "      <td>26895.0</td>\n",
       "      <td>1.995129</td>\n",
       "      <td>0.069622</td>\n",
       "      <td>1.0</td>\n",
       "      <td>2.0</td>\n",
       "      <td>2.0</td>\n",
       "      <td>2.0</td>\n",
       "      <td>2.0</td>\n",
       "      <td>26895.0</td>\n",
       "      <td>-73.972213</td>\n",
       "      <td>...</td>\n",
       "      <td>18.080</td>\n",
       "      <td>1439.23</td>\n",
       "      <td>26895.0</td>\n",
       "      <td>3.516760</td>\n",
       "      <td>4.043013</td>\n",
       "      <td>0.000000</td>\n",
       "      <td>1.254617</td>\n",
       "      <td>2.117328</td>\n",
       "      <td>3.952822</td>\n",
       "      <td>80.287249</td>\n",
       "    </tr>\n",
       "    <tr>\n",
       "      <th>6</th>\n",
       "      <td>16514.0</td>\n",
       "      <td>1.996730</td>\n",
       "      <td>0.057092</td>\n",
       "      <td>1.0</td>\n",
       "      <td>2.0</td>\n",
       "      <td>2.0</td>\n",
       "      <td>2.0</td>\n",
       "      <td>2.0</td>\n",
       "      <td>16514.0</td>\n",
       "      <td>-73.973215</td>\n",
       "      <td>...</td>\n",
       "      <td>17.965</td>\n",
       "      <td>1439.23</td>\n",
       "      <td>16514.0</td>\n",
       "      <td>3.411402</td>\n",
       "      <td>3.866796</td>\n",
       "      <td>0.000000</td>\n",
       "      <td>1.242668</td>\n",
       "      <td>2.089822</td>\n",
       "      <td>3.850286</td>\n",
       "      <td>38.731155</td>\n",
       "    </tr>\n",
       "    <tr>\n",
       "      <th>8</th>\n",
       "      <td>1.0</td>\n",
       "      <td>2.000000</td>\n",
       "      <td>NaN</td>\n",
       "      <td>2.0</td>\n",
       "      <td>2.0</td>\n",
       "      <td>2.0</td>\n",
       "      <td>2.0</td>\n",
       "      <td>2.0</td>\n",
       "      <td>1.0</td>\n",
       "      <td>-73.992653</td>\n",
       "      <td>...</td>\n",
       "      <td>1.730</td>\n",
       "      <td>1.73</td>\n",
       "      <td>1.0</td>\n",
       "      <td>5.951853</td>\n",
       "      <td>NaN</td>\n",
       "      <td>5.951853</td>\n",
       "      <td>5.951853</td>\n",
       "      <td>5.951853</td>\n",
       "      <td>5.951853</td>\n",
       "      <td>5.951853</td>\n",
       "    </tr>\n",
       "  </tbody>\n",
       "</table>\n",
       "<p>8 rows × 56 columns</p>\n",
       "</div>"
      ],
      "text/plain": [
       "                vendor_id                                               \\\n",
       "                    count      mean       std  min  25%  50%  75%  max   \n",
       "passenger_count                                                          \n",
       "0                    24.0  1.333333  0.481543  1.0  1.0  1.0  2.0  2.0   \n",
       "1                354340.0  1.467260  0.498928  1.0  1.0  1.0  2.0  2.0   \n",
       "2                 72045.0  1.560983  0.496271  1.0  1.0  2.0  2.0  2.0   \n",
       "3                 20633.0  1.615907  0.486392  1.0  1.0  2.0  2.0  2.0   \n",
       "4                  9548.0  1.578865  0.493767  1.0  1.0  2.0  2.0  2.0   \n",
       "5                 26895.0  1.995129  0.069622  1.0  2.0  2.0  2.0  2.0   \n",
       "6                 16514.0  1.996730  0.057092  1.0  2.0  2.0  2.0  2.0   \n",
       "8                     1.0  2.000000       NaN  2.0  2.0  2.0  2.0  2.0   \n",
       "\n",
       "                pickup_longitude             ... trip_duration            \\\n",
       "                           count       mean  ...           75%       max   \n",
       "passenger_count                              ...                           \n",
       "0                           24.0 -73.957004  ...         5.790     54.05   \n",
       "1                       354340.0 -73.973471  ...        17.700  32328.93   \n",
       "2                        72045.0 -73.973038  ...        18.730  34159.63   \n",
       "3                        20633.0 -73.974103  ...        18.650   1439.42   \n",
       "4                         9548.0 -73.973925  ...        18.970   1439.65   \n",
       "5                        26895.0 -73.972213  ...        18.080   1439.23   \n",
       "6                        16514.0 -73.973215  ...        17.965   1439.23   \n",
       "8                            1.0 -73.992653  ...         1.730      1.73   \n",
       "\n",
       "                 distance                                                    \\\n",
       "                    count      mean       std       min       25%       50%   \n",
       "passenger_count                                                               \n",
       "0                    24.0  2.081963  4.692339  0.000000  0.002452  0.016016   \n",
       "1                354340.0  3.384785  4.422568  0.000000  1.219024  2.071817   \n",
       "2                 72045.0  3.680935  5.605741  0.000000  1.275010  2.176080   \n",
       "3                 20633.0  3.560908  4.196276  0.000000  1.268869  2.140523   \n",
       "4                  9548.0  3.632720  4.243437  0.000000  1.257529  2.162604   \n",
       "5                 26895.0  3.516760  4.043013  0.000000  1.254617  2.117328   \n",
       "6                 16514.0  3.411402  3.866796  0.000000  1.242668  2.089822   \n",
       "8                     1.0  5.951853       NaN  5.951853  5.951853  5.951853   \n",
       "\n",
       "                                        \n",
       "                      75%          max  \n",
       "passenger_count                         \n",
       "0                1.578588    19.013222  \n",
       "1                3.822497  1240.908677  \n",
       "2                4.101557   578.842818  \n",
       "3                4.002949   135.275586  \n",
       "4                4.078617    35.425092  \n",
       "5                3.952822    80.287249  \n",
       "6                3.850286    38.731155  \n",
       "8                5.951853     5.951853  \n",
       "\n",
       "[8 rows x 56 columns]"
      ]
     },
     "execution_count": 16,
     "metadata": {},
     "output_type": "execute_result"
    }
   ],
   "source": [
    "#Group by 'passenger count'\n",
    "\n",
    "pass_num= taxi.groupby('passenger_count')\n",
    "pass_num.describe()"
   ]
  },
  {
   "cell_type": "code",
   "execution_count": null,
   "metadata": {},
   "outputs": [],
   "source": []
  },
  {
   "cell_type": "code",
   "execution_count": 17,
   "metadata": {},
   "outputs": [
    {
     "data": {
      "text/plain": [
       "<AxesSubplot:xlabel='vendor_id', ylabel='count'>"
      ]
     },
     "execution_count": 17,
     "metadata": {},
     "output_type": "execute_result"
    },
    {
     "data": {
      "image/png": "[encoded data removed]",
      "text/plain": [
       "<Figure size 504x360 with 1 Axes>"
      ]
     },
     "metadata": {},
     "output_type": "display_data"
    }
   ],
   "source": [
    "sns.set(rc={'figure.figsize': (7,5)})\n",
    "sns.countplot(x = 'vendor_id', data = taxi)"
   ]
  },
  {
   "cell_type": "code",
   "execution_count": 18,
   "metadata": {},
   "outputs": [
    {
     "data": {
      "text/plain": [
       "<AxesSubplot:xlabel='passenger_count', ylabel='trip_duration'>"
      ]
     },
     "execution_count": 18,
     "metadata": {},
     "output_type": "execute_result"
    },
    {
     "data": {
      "image/png": "[encoded data removed]",
      "text/plain": [
       "<Figure size 720x360 with 1 Axes>"
      ]
     },
     "metadata": {},
     "output_type": "display_data"
    }
   ],
   "source": [
    "sns.set(rc={'figure.figsize': (10,5)})\n",
    "sns.barplot(x = 'passenger_count', y = 'trip_duration', hue = 'passenger_count', data = taxi, ci = False)"
   ]
  },
  {
   "cell_type": "code",
   "execution_count": null,
   "metadata": {},
   "outputs": [],
   "source": []
  },
  {
   "cell_type": "code",
   "execution_count": 19,
   "metadata": {},
   "outputs": [
    {
     "data": {
      "text/plain": [
       "Series([], Name: passenger_count, dtype: int64)"
      ]
     },
     "execution_count": 19,
     "metadata": {},
     "output_type": "execute_result"
    }
   ],
   "source": [
    "#Check for rides of 7 passengers\n",
    "\n",
    "pass_count_7 = taxi['passenger_count'] == 7\n",
    "taxi.loc[pass_count_7]['passenger_count']"
   ]
  },
  {
   "cell_type": "code",
   "execution_count": null,
   "metadata": {},
   "outputs": [],
   "source": []
  },
  {
   "cell_type": "markdown",
   "metadata": {},
   "source": [
    "# Look into 'trip_duration'"
   ]
  },
  {
   "cell_type": "code",
   "execution_count": 21,
   "metadata": {},
   "outputs": [
    {
     "name": "stderr",
     "output_type": "stream",
     "text": [
      "/Users/Marwin/miniconda3/lib/python3.8/site-packages/seaborn/distributions.py:2557: FutureWarning: `distplot` is a deprecated function and will be removed in a future version. Please adapt your code to use either `displot` (a figure-level function with similar flexibility) or `histplot` (an axes-level function for histograms).\n",
      "  warnings.warn(msg, FutureWarning)\n"
     ]
    },
    {
     "data": {
      "text/plain": [
       "<AxesSubplot:xlabel='trip_duration'>"
      ]
     },
     "execution_count": 21,
     "metadata": {},
     "output_type": "execute_result"
    },
    {
     "data": {
      "image/png": "[encoded data removed]",
      "text/plain": [
       "<Figure size 720x360 with 1 Axes>"
      ]
     },
     "metadata": {},
     "output_type": "display_data"
    }
   ],
   "source": [
    "sns.distplot(taxi['trip_duration'],kde=False)"
   ]
  },
  {
   "cell_type": "code",
   "execution_count": null,
   "metadata": {},
   "outputs": [],
   "source": []
  },
  {
   "cell_type": "code",
   "execution_count": 22,
   "metadata": {},
   "outputs": [
    {
     "data": {
      "text/plain": [
       "27        1426.50\n",
       "224       1438.73\n",
       "783       1438.62\n",
       "808       1422.27\n",
       "1975      1422.07\n",
       "           ...   \n",
       "498437    1438.62\n",
       "499300     893.58\n",
       "499637    1436.40\n",
       "499921    1421.33\n",
       "499966    1438.63\n",
       "Name: trip_duration, Length: 771, dtype: float64"
      ]
     },
     "execution_count": 22,
     "metadata": {},
     "output_type": "execute_result"
    }
   ],
   "source": [
    "#Check for trip_duration' outliers\n",
    "\n",
    "#taxi['trip_duration'].mean()\n",
    "#taxi['trip_duration'].max()\n",
    "duration_over_120 = taxi['trip_duration'] > 120\n",
    "taxi.loc[duration_over_120]['trip_duration']"
   ]
  },
  {
   "cell_type": "code",
   "execution_count": null,
   "metadata": {},
   "outputs": [],
   "source": []
  },
  {
   "cell_type": "code",
   "execution_count": 23,
   "metadata": {},
   "outputs": [],
   "source": [
    "#Drop outliers of 'trip_duration'\n",
    "\n",
    "taxi.drop(taxi[taxi.trip_duration > 120].index, inplace=True)"
   ]
  },
  {
   "cell_type": "code",
   "execution_count": null,
   "metadata": {},
   "outputs": [],
   "source": []
  },
  {
   "cell_type": "code",
   "execution_count": 24,
   "metadata": {},
   "outputs": [
    {
     "data": {
      "text/plain": [
       "118004    119.85\n",
       "189092    119.22\n",
       "Name: trip_duration, dtype: float64"
      ]
     },
     "execution_count": 24,
     "metadata": {},
     "output_type": "execute_result"
    }
   ],
   "source": [
    "#Check for removed outliers\n",
    "\n",
    "duration_over_119 = taxi['trip_duration'] > 119\n",
    "taxi.loc[duration_over_119]['trip_duration']"
   ]
  },
  {
   "cell_type": "code",
   "execution_count": null,
   "metadata": {},
   "outputs": [],
   "source": []
  },
  {
   "cell_type": "code",
   "execution_count": 25,
   "metadata": {},
   "outputs": [
    {
     "name": "stderr",
     "output_type": "stream",
     "text": [
      "/Users/Marwin/miniconda3/lib/python3.8/site-packages/seaborn/distributions.py:2557: FutureWarning: `distplot` is a deprecated function and will be removed in a future version. Please adapt your code to use either `displot` (a figure-level function with similar flexibility) or `histplot` (an axes-level function for histograms).\n",
      "  warnings.warn(msg, FutureWarning)\n"
     ]
    },
    {
     "data": {
      "text/plain": [
       "<AxesSubplot:xlabel='trip_duration'>"
      ]
     },
     "execution_count": 25,
     "metadata": {},
     "output_type": "execute_result"
    },
    {
     "data": {
      "image/png": "[encoded data removed]",
      "text/plain": [
       "<Figure size 1152x360 with 1 Axes>"
      ]
     },
     "metadata": {},
     "output_type": "display_data"
    }
   ],
   "source": [
    "sns.set(rc={'figure.figsize': (16,5)})\n",
    "sns.distplot(taxi['trip_duration'],kde=False)"
   ]
  },
  {
   "cell_type": "code",
   "execution_count": null,
   "metadata": {},
   "outputs": [],
   "source": []
  },
  {
   "cell_type": "code",
   "execution_count": 26,
   "metadata": {},
   "outputs": [
    {
     "data": {
      "text/plain": [
       "(array([2.72599e+05, 1.58961e+05, 4.49380e+04, 1.40170e+04, 5.28100e+03,\n",
       "        2.06200e+03, 8.71000e+02, 3.32000e+02, 1.19000e+02, 4.90000e+01]),\n",
       " array([2.00000e-02, 1.20030e+01, 2.39860e+01, 3.59690e+01, 4.79520e+01,\n",
       "        5.99350e+01, 7.19180e+01, 8.39010e+01, 9.58840e+01, 1.07867e+02,\n",
       "        1.19850e+02]),\n",
       " <BarContainer object of 10 artists>)"
      ]
     },
     "execution_count": 26,
     "metadata": {},
     "output_type": "execute_result"
    },
    {
     "data": {
      "image/png": "[encoded data removed]",
      "text/plain": [
       "<Figure size 1152x360 with 1 Axes>"
      ]
     },
     "metadata": {},
     "output_type": "display_data"
    }
   ],
   "source": [
    "plt.hist('trip_duration', data = taxi)"
   ]
  },
  {
   "cell_type": "code",
   "execution_count": null,
   "metadata": {},
   "outputs": [],
   "source": []
  },
  {
   "cell_type": "code",
   "execution_count": null,
   "metadata": {},
   "outputs": [],
   "source": [
    "# Look into 'distance'"
   ]
  },
  {
   "cell_type": "code",
   "execution_count": 28,
   "metadata": {},
   "outputs": [
    {
     "data": {
      "text/plain": [
       "<AxesSubplot:xlabel='distance'>"
      ]
     },
     "execution_count": 28,
     "metadata": {},
     "output_type": "execute_result"
    },
    {
     "data": {
      "image/png": "[encoded data removed]",
      "text/plain": [
       "<Figure size 1152x360 with 1 Axes>"
      ]
     },
     "metadata": {},
     "output_type": "display_data"
    }
   ],
   "source": [
    "sns.set(rc={'figure.figsize': (16,5)})\n",
    "sns.distplot(taxi['distance'],kde=False)"
   ]
  },
  {
   "cell_type": "code",
   "execution_count": null,
   "metadata": {},
   "outputs": [],
   "source": []
  },
  {
   "cell_type": "code",
   "execution_count": 29,
   "metadata": {},
   "outputs": [
    {
     "data": {
      "text/plain": [
       "2809      33.693589\n",
       "2899      27.531211\n",
       "5499      26.987040\n",
       "7428      26.267981\n",
       "8713      25.257146\n",
       "            ...    \n",
       "497513    30.252306\n",
       "498587    25.461218\n",
       "499294    27.234457\n",
       "499528    58.478925\n",
       "499582    26.879600\n",
       "Name: distance, Length: 486, dtype: float64"
      ]
     },
     "execution_count": 29,
     "metadata": {},
     "output_type": "execute_result"
    }
   ],
   "source": [
    "#Check for 'distance' outliers\n",
    "\n",
    "#taxi['distance'].mean()\n",
    "#taxi['distance'].max()\n",
    "distance_over_25= taxi['distance'] > 25\n",
    "taxi.loc[distance_over_25]['distance']"
   ]
  },
  {
   "cell_type": "code",
   "execution_count": null,
   "metadata": {},
   "outputs": [],
   "source": []
  },
  {
   "cell_type": "code",
   "execution_count": 30,
   "metadata": {},
   "outputs": [],
   "source": [
    "#Drop outliers of 'trip_duration'\n",
    "\n",
    "taxi.drop(taxi[taxi.distance > 25].index, inplace=True)"
   ]
  },
  {
   "cell_type": "code",
   "execution_count": 31,
   "metadata": {},
   "outputs": [
    {
     "data": {
      "text/plain": [
       "32002     24.903383\n",
       "62981     24.922278\n",
       "117034    24.977038\n",
       "178880    24.969677\n",
       "363953    24.925311\n",
       "367547    24.958214\n",
       "368850    24.972030\n",
       "384104    24.986156\n",
       "487351    24.929622\n",
       "494099    24.953235\n",
       "Name: distance, dtype: float64"
      ]
     },
     "execution_count": 31,
     "metadata": {},
     "output_type": "execute_result"
    }
   ],
   "source": [
    "#Check for removed outliers\n",
    "\n",
    "distance_over_25 = taxi['distance'] > 24.9\n",
    "taxi.loc[distance_over_25]['distance']"
   ]
  },
  {
   "cell_type": "code",
   "execution_count": 32,
   "metadata": {},
   "outputs": [
    {
     "name": "stderr",
     "output_type": "stream",
     "text": [
      "/Users/Marwin/miniconda3/lib/python3.8/site-packages/seaborn/distributions.py:2557: FutureWarning: `distplot` is a deprecated function and will be removed in a future version. Please adapt your code to use either `displot` (a figure-level function with similar flexibility) or `histplot` (an axes-level function for histograms).\n",
      "  warnings.warn(msg, FutureWarning)\n"
     ]
    },
    {
     "data": {
      "text/plain": [
       "<AxesSubplot:xlabel='distance'>"
      ]
     },
     "execution_count": 32,
     "metadata": {},
     "output_type": "execute_result"
    },
    {
     "data": {
      "image/png": "[encoded data removed]",
      "text/plain": [
       "<Figure size 1152x360 with 1 Axes>"
      ]
     },
     "metadata": {},
     "output_type": "display_data"
    }
   ],
   "source": [
    "sns.set(rc={'figure.figsize': (16,5)})\n",
    "sns.distplot(taxi['distance'],kde=False)"
   ]
  },
  {
   "cell_type": "code",
   "execution_count": 33,
   "metadata": {},
   "outputs": [
    {
     "data": {
      "text/plain": [
       "(array([290852., 118334.,  38851.,  20594.,   9901.,   5150.,   3172.,\n",
       "          4121.,   6967.,    801.]),\n",
       " array([ 0.        ,  2.4986156 ,  4.9972312 ,  7.49584679,  9.99446239,\n",
       "        12.49307799, 14.99169359, 17.49030918, 19.98892478, 22.48754038,\n",
       "        24.98615598]),\n",
       " <BarContainer object of 10 artists>)"
      ]
     },
     "execution_count": 33,
     "metadata": {},
     "output_type": "execute_result"
    },
    {
     "data": {
      "image/png": "[encoded data removed]",
      "text/plain": [
       "<Figure size 1152x360 with 1 Axes>"
      ]
     },
     "metadata": {},
     "output_type": "display_data"
    }
   ],
   "source": [
    "plt.hist('distance', data = taxi)"
   ]
  },
  {
   "cell_type": "code",
   "execution_count": 34,
   "metadata": {},
   "outputs": [
    {
     "data": {
      "image/png": "[encoded data removed]",
      "text/plain": [
       "<Figure size 864x720 with 1 Axes>"
      ]
     },
     "metadata": {},
     "output_type": "display_data"
    }
   ],
   "source": [
    "#Map pickup locations\n",
    "\n",
    "fig, ax = plt.subplots(ncols=1, nrows=1,figsize=(12,10))\n",
    "plt.ylim(40.6, 40.9)\n",
    "plt.xlim(-74.1,-73.7)\n",
    "ax.scatter(taxi['pickup_longitude'],taxi['pickup_latitude'], s=0.0002, alpha=1, color= 'yellow')\n",
    "plt.rcParams['axes.facecolor'] = '2B2D2F'\n",
    "plt.rcParams[\"axes.grid\"] = False"
   ]
  },
  {
   "cell_type": "code",
   "execution_count": null,
   "metadata": {},
   "outputs": [],
   "source": []
  },
  {
   "cell_type": "code",
   "execution_count": 35,
   "metadata": {},
   "outputs": [],
   "source": [
    "#Vendor_1 and vendor_2 assignment\n",
    "\n",
    "vendor_1 = taxi['vendor_id'] == 1\n",
    "vendor_2 = taxi['vendor_id'] == 2"
   ]
  },
  {
   "cell_type": "code",
   "execution_count": null,
   "metadata": {},
   "outputs": [],
   "source": []
  },
  {
   "cell_type": "code",
   "execution_count": 36,
   "metadata": {},
   "outputs": [
    {
     "data": {
      "text/plain": [
       "(13.823126592630857, 13.98901382388157)"
      ]
     },
     "execution_count": 36,
     "metadata": {},
     "output_type": "execute_result"
    }
   ],
   "source": [
    "#Avg 'trip_duration' for vendor_1 and vendor_2\n",
    "\n",
    "taxi[vendor_1]['trip_duration'].mean(), taxi[vendor_2]['trip_duration'].mean()"
   ]
  },
  {
   "cell_type": "code",
   "execution_count": 71,
   "metadata": {},
   "outputs": [
    {
     "data": {
      "text/plain": [
       "Ttest_indResult(statistic=-5.391688099077136, pvalue=6.983086128216754e-08)"
      ]
     },
     "execution_count": 71,
     "metadata": {},
     "output_type": "execute_result"
    }
   ],
   "source": [
    "#Ttest 'trip_duration' for vendor_1 and vendor_2\n",
    "\n",
    "stats.ttest_ind(taxi[vendor_1]['trip_duration'], taxi[vendor_2]['trip_duration'], equal_var=False)"
   ]
  },
  {
   "cell_type": "code",
   "execution_count": 40,
   "metadata": {},
   "outputs": [
    {
     "data": {
      "text/plain": [
       "(10.74034269187617, 10.950500950998052)"
      ]
     },
     "execution_count": 40,
     "metadata": {},
     "output_type": "execute_result"
    }
   ],
   "source": [
    "#standard deviation for 'trip_duration' for vendor_1 and vendor_2\n",
    "\n",
    "taxi[vendor_1]['trip_duration'].std(), taxi[vendor_2]['trip_duration'].std()"
   ]
  },
  {
   "cell_type": "code",
   "execution_count": null,
   "metadata": {},
   "outputs": [],
   "source": [
    "# Null Hypothesis, Alternative Hypothesis, and Ttest Result\n",
    "\n",
    "H0: The avg duration for the two vendors is not different\n",
    "\n",
    "H1: The avg duration for the two vendors is different\n",
    "\n",
    "Result: Reject the Null Hypothesis because pvalue=7.441885271979736e-09 and it is significantly lower than 0.05"
   ]
  },
  {
   "cell_type": "code",
   "execution_count": null,
   "metadata": {},
   "outputs": [],
   "source": []
  },
  {
   "cell_type": "code",
   "execution_count": 42,
   "metadata": {},
   "outputs": [
    {
     "data": {
      "text/plain": [
       "(3.3766582810446835, 3.438821111217524)"
      ]
     },
     "execution_count": 42,
     "metadata": {},
     "output_type": "execute_result"
    }
   ],
   "source": [
    "##Avg 'distance' for vendor_1, vendor_2\n",
    "\n",
    "taxi[vendor_1]['distance'].mean(), taxi[vendor_2]['distance'].mean()"
   ]
  },
  {
   "cell_type": "code",
   "execution_count": 43,
   "metadata": {},
   "outputs": [
    {
     "data": {
      "text/plain": [
       "Ttest_indResult(statistic=-5.718775689797707, pvalue=1.0735607906483357e-08)"
      ]
     },
     "execution_count": 43,
     "metadata": {},
     "output_type": "execute_result"
    }
   ],
   "source": [
    "#Ttest 'distance' for vendor_1 and vendor_2 \n",
    "\n",
    "stats.ttest_ind(taxi[vendor_1]['distance'], taxi[vendor_2]['distance'], equal_var=False)"
   ]
  },
  {
   "cell_type": "code",
   "execution_count": 44,
   "metadata": {},
   "outputs": [
    {
     "data": {
      "text/plain": [
       "(3.7810849677629976, 3.8838386804128797)"
      ]
     },
     "execution_count": 44,
     "metadata": {},
     "output_type": "execute_result"
    }
   ],
   "source": [
    "#standard deviation for 'trip_duration' for vendor_1 and vendor_2\n",
    "\n",
    "taxi[vendor_1]['distance'].std(), taxi[vendor_2]['distance'].std()"
   ]
  },
  {
   "cell_type": "code",
   "execution_count": null,
   "metadata": {},
   "outputs": [],
   "source": [
    "#taxi.to_csv('~/desktop/ttp2/capstone_3/taxi_sample_tue.csv')"
   ]
  }
 ],
 "metadata": {
  "kernelspec": {
   "display_name": "Python 3",
   "language": "python",
   "name": "python3"
  },
  "language_info": {
   "codemirror_mode": {
    "name": "ipython",
    "version": 3
   },
   "file_extension": ".py",
   "mimetype": "text/x-python",
   "name": "python",
   "nbconvert_exporter": "python",
   "pygments_lexer": "ipython3",
   "version": "3.8.6"
  }
 },
 "nbformat": 4,
 "nbformat_minor": 4
}
